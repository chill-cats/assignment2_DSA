{
 "cells": [
  {
   "cell_type": "code",
   "execution_count": 1,
   "id": "fac4cbb0",
   "metadata": {},
   "outputs": [
    {
     "name": "stdout",
     "output_type": "stream",
     "text": [
      "Collecting rstr\n",
      "  Using cached rstr-3.0.0-py2.py3-none-any.whl (9.0 kB)\n",
      "Installing collected packages: rstr\n",
      "Successfully installed rstr-3.0.0\n"
     ]
    }
   ],
   "source": [
    "!pip install rstr"
   ]
  },
  {
   "cell_type": "code",
   "execution_count": null,
   "id": "bd4a66e2",
   "metadata": {},
   "outputs": [],
   "source": []
  }
 ],
 "metadata": {
  "kernelspec": {
   "display_name": "Python 3 (ipykernel)",
   "language": "python",
   "name": "python3"
  },
  "language_info": {
   "codemirror_mode": {
    "name": "ipython",
    "version": 3
   },
   "file_extension": ".py",
   "mimetype": "text/x-python",
   "name": "python",
   "nbconvert_exporter": "python",
   "pygments_lexer": "ipython3",
   "version": "3.9.6"
  }
 },
 "nbformat": 4,
 "nbformat_minor": 5
}
